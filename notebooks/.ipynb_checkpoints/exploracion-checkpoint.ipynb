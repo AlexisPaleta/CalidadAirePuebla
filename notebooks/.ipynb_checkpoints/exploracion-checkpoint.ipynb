{
 "cells": [
  {
   "cell_type": "raw",
   "id": "d95c8abe-61fc-43a8-854a-9e788a21f5d4",
   "metadata": {},
   "source": [
    "# hola a todos\n"
   ]
  },
  {
   "cell_type": "code",
   "execution_count": null,
   "id": "fda79f98-8d2c-43cf-a62a-56d8df1e3ad8",
   "metadata": {},
   "outputs": [],
   "source": []
  },
  {
   "cell_type": "code",
   "execution_count": null,
   "id": "177c9028-d7b8-4a69-8e5d-1c9b65008d8f",
   "metadata": {},
   "outputs": [],
   "source": []
  },
  {
   "cell_type": "markdown",
   "id": "acdb3138-fb2f-40bb-a86f-cb3395a4bf19",
   "metadata": {},
   "source": []
  }
 ],
 "metadata": {
  "kernelspec": {
   "display_name": "Python 3 (ipykernel)",
   "language": "python",
   "name": "python3"
  },
  "language_info": {
   "codemirror_mode": {
    "name": "ipython",
    "version": 3
   },
   "file_extension": ".py",
   "mimetype": "text/x-python",
   "name": "python",
   "nbconvert_exporter": "python",
   "pygments_lexer": "ipython3",
   "version": "3.13.3"
  }
 },
 "nbformat": 4,
 "nbformat_minor": 5
}
