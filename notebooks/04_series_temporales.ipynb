{
 "cells": [
  {
   "cell_type": "markdown",
   "metadata": {},
   "source": [
    "# An\u00e1lisis de Series Temporales\n",
    "\n",
    "Demostraci\u00f3n de un modelo ARIMA para pronosticar PM10."
   ]
  },
  {
   "cell_type": "code",
   "execution_count": null,
   "metadata": {},
   "outputs": [],
   "source": [
    "import pandas as pd\n",
    "import glob\n",
    "import matplotlib.pyplot as plt\n",
    "from statsmodels.tsa.arima.model import ARIMA\n",
    "%matplotlib inline"
   ]
  },
  {
   "cell_type": "markdown",
   "metadata": {},
   "source": [
    "## Carga y preparaci\u00f3n de datos"
   ]
  },
  {
   "cell_type": "code",
   "execution_count": null,
   "metadata": {},
   "outputs": [],
   "source": [
    "archivos = sorted(glob.glob('../data/Clean/datos_Clean_*.csv'))\n",
    "dfs = [pd.read_csv(f, parse_dates=['DateTime']) for f in archivos]\n",
    "datos = pd.concat(dfs)\n",
    "datos = datos.set_index('DateTime').sort_index()\n",
    "serie = datos['PM10'].dropna()"
   ]
  },
  {
   "cell_type": "markdown",
   "metadata": {},
   "source": [
    "## Modelo ARIMA b\u00e1sico"
   ]
  },
  {
   "cell_type": "code",
   "execution_count": null,
   "metadata": {},
   "outputs": [],
   "source": [
    "modelo = ARIMA(serie, order=(1,1,1))\n",
    "resultado = modelo.fit()\n",
    "predicciones = resultado.predict(start=serie.index[0], end=serie.index[-1])"
   ]
  },
  {
   "cell_type": "markdown",
   "metadata": {},
   "source": [
    "## Comparaci\u00f3n de valores reales vs. estimados"
   ]
  },
  {
   "cell_type": "code",
   "execution_count": null,
   "metadata": {},
   "outputs": [],
   "source": [
    "plt.figure(figsize=(12,5))\n",
    "serie.plot(label='Real')\n",
    "predicciones.plot(label='Pronosticado', alpha=0.7)\n",
    "plt.legend()\n",
    "plt.ylabel('PM10')\n",
    "plt.show()"
   ]
  }
 ],
 "metadata": {
  "kernelspec": {
   "display_name": "Python 3",
   "language": "python",
   "name": "python3"
  },
  "language_info": {
   "name": "python",
   "pygments_lexer": "ipython3"
  }
 },
 "nbformat": 4,
 "nbformat_minor": 5
}
