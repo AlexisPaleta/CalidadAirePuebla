{
 "cells": [
  {
   "cell_type": "markdown",
   "metadata": {},
   "source": [
    "# Análisis de Series Temporales\n",
    "\n",
    "Demostración de un modelo ARIMA para pronosticar PM10."
   ]
  },
  {
   "cell_type": "code",
   "execution_count": null,
   "metadata": {},
   "outputs": [],
   "source": [
    "import pandas as pd\n",
    "import glob\n",
    "import matplotlib.pyplot as plt\n",
    "from statsmodels.tsa.arima.model import ARIMA\n",
    "%matplotlib inline"
   ]
  },
  {
   "cell_type": "markdown",
   "metadata": {},
   "source": [
    "## Carga y preparación de datos"
   ]
  },
  {
   "cell_type": "code",
   "execution_count": null,
   "metadata": {},
   "outputs": [],
   "source": [
    "archivos = sorted(glob.glob('../data/Clean/datos_Clean_*.csv'))\n",
    "dfs = [pd.read_csv(f, parse_dates=['DateTime']) for f in archivos]\n",
    "datos = pd.concat(dfs)\n",
    "datos = datos.set_index('DateTime').sort_index()\n",
    "serie = datos['PM10'].dropna()"
   ]
  },
  {
   "cell_type": "markdown",
   "metadata": {},
   "source": [
    "## Análisis y prueba de estacionariedad"
   ]
  },
  {
   "cell_type": "code",
   "execution_count": null,
   "metadata": {},
   "outputs": [],
   "source": [
    "serie.plot(figsize=(12,4))\n",
    "plt.title('PM10 en el tiempo')\n",
    "plt.show()\n",
    "from statsmodels.tsa.stattools import adfuller\n",
    "adf = adfuller(serie)\n",
    "print('p-valor ADF:', adf[1])"
   ]
  },
  {
   "cell_type": "markdown",
   "metadata": {},
   "source": [
    "## Modelo ARIMA y evaluación"
   ]
  },
  {
   "cell_type": "code",
   "execution_count": null,
   "metadata": {},
   "outputs": [],
   "source": [
    "train_size = int(len(serie)*0.8)\n",
    "train, test = serie[:train_size], serie[train_size:]\n",
    "modelo = ARIMA(train, order=(1,1,1))\n",
    "resultado = modelo.fit()\n",
    "predicciones = resultado.predict(start=test.index[0], end=test.index[-1])\n",
    "from sklearn.metrics import mean_absolute_error\n",
    "mae = mean_absolute_error(test, predicciones)\n",
    "print('MAE:', mae)"
   ]
  },
  {
   "cell_type": "markdown",
   "metadata": {},
   "source": [
    "## Comparación de valores reales vs. estimados"
   ]
  },
  {
   "cell_type": "code",
   "execution_count": null,
   "metadata": {},
   "outputs": [],
   "source": [
    "plt.figure(figsize=(12,5))\n",
    "serie.plot(label='Real')\n",
    "predicciones.plot(label='Pronosticado', alpha=0.7)\n",
    "plt.legend()\n",
    "plt.ylabel('PM10')\n",
    "plt.show()"
   ]
  }
 ],
 "metadata": {
  "kernelspec": {
   "display_name": "Python 3",
   "language": "python",
   "name": "python3"
  },
  "language_info": {
   "name": "python",
   "pygments_lexer": "ipython3"
  }
 },
 "nbformat": 4,
 "nbformat_minor": 5
}
