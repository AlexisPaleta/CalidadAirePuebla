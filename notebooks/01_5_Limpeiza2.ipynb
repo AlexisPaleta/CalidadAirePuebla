{
 "cells": [
  {
   "cell_type": "code",
   "execution_count": 4,
   "id": "37be2cf9",
   "metadata": {},
   "outputs": [
    {
     "name": "stdout",
     "output_type": "stream",
     "text": [
      "✅ Archivo guardado como datos_Clean_2022.csv\n"
     ]
    }
   ],
   "source": [
    "import pandas as pd\n",
    "import numpy as np\n",
    "\n",
    "# Lista de rutas a los archivos 2022\n",
    "paths_2022 = [\n",
    "    \"bine2022_corregido.csv\",\n",
    "    \"ninfas2022_corregido.csv\",\n",
    "    \"santa2022_corregido.csv\",\n",
    "    \"utp2022_corregido.csv\",\n",
    "    \"vel2022_corregido.csv\"\n",
    "]\n",
    "\n",
    "# Mapeo de nombres correctos\n",
    "rename_map_2022 = {\n",
    "    'Fecha_Hora': 'DateTime',\n",
    "    'O3_Horario': 'O3',\n",
    "    'O3_8H': 'O3_8hrs',\n",
    "    'NO2': 'NO2',\n",
    "    'CO_8H': 'CO',\n",
    "    'SO2_24H': 'SO2',\n",
    "    'PM_10': 'PM10',\n",
    "    'PM_2.5': 'PM2_5'\n",
    "}\n",
    "\n",
    "# Estaciones según el archivo\n",
    "estaciones = {\n",
    "    'bine2022_corregido.csv': 'bine',\n",
    "    'ninfas2022_corregido.csv': 'ninfas',\n",
    "    'santa2022_corregido.csv': 'santa',\n",
    "    'utp2022_corregido.csv': 'utp',\n",
    "    'vel2022_corregido.csv': 'vel'\n",
    "}\n",
    "\n",
    "# Procesamiento\n",
    "dfs_2022 = []\n",
    "\n",
    "for path in paths_2022:\n",
    "    df = pd.read_csv(f\"data/final/profe/{path}\")\n",
    "    df.rename(columns=rename_map_2022, inplace=True)\n",
    "    df['DateTime'] = pd.to_datetime(df['DateTime'], errors='coerce')\n",
    "\n",
    "    df['Anio'] = df['DateTime'].dt.year\n",
    "    df['Mes'] = df['DateTime'].dt.month\n",
    "    df['Dia'] = df['DateTime'].dt.day\n",
    "    df['Hora'] = df['DateTime'].dt.hour\n",
    "    df['Estacion'] = estaciones[path]\n",
    "\n",
    "    if 'O3_8hrs' not in df.columns:\n",
    "        df['O3_8hrs'] = np.nan\n",
    "\n",
    "    final_cols = ['O3', 'O3_8hrs', 'NO2', 'CO', 'SO2', 'PM10', 'PM2_5',\n",
    "                  'Estacion', 'DateTime', 'Anio', 'Mes', 'Dia', 'Hora']\n",
    "    for col in final_cols:\n",
    "        if col not in df.columns:\n",
    "            df[col] = np.nan\n",
    "\n",
    "    df = df[final_cols]\n",
    "    dfs_2022.append(df)\n",
    "\n",
    "# Unir todos\n",
    "df_2022_final = pd.concat(dfs_2022, ignore_index=True)\n",
    "\n",
    "# Guardar como CSV limpio\n",
    "df_2022_final.to_csv(\"data/final/clean/datos_Clean_2022.csv\", index=False)\n",
    "print(\"✅ Archivo guardado como datos_Clean_2022.csv\")\n"
   ]
  },
  {
   "cell_type": "code",
   "execution_count": null,
   "id": "64c31006",
   "metadata": {},
   "outputs": [],
   "source": []
  }
 ],
 "metadata": {
  "kernelspec": {
   "display_name": "ml-env",
   "language": "python",
   "name": "python3"
  },
  "language_info": {
   "codemirror_mode": {
    "name": "ipython",
    "version": 3
   },
   "file_extension": ".py",
   "mimetype": "text/x-python",
   "name": "python",
   "nbconvert_exporter": "python",
   "pygments_lexer": "ipython3",
   "version": "3.10.16"
  }
 },
 "nbformat": 4,
 "nbformat_minor": 5
}
